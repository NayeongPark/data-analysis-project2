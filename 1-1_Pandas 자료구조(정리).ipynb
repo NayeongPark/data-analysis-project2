{
 "cells": [
  {
   "cell_type": "markdown",
   "id": "d3e6fd3a-7e17-4f5a-a8df-b1bb169d20e5",
   "metadata": {},
   "source": [
    "## import"
   ]
  },
  {
   "cell_type": "code",
   "execution_count": null,
   "id": "e467768d-d518-47c2-ad04-c62768efd340",
   "metadata": {},
   "outputs": [],
   "source": [
    "import numpy as np"
   ]
  },
  {
   "cell_type": "markdown",
   "id": "fecb75f2-2d8e-490e-ab15-aed9a64fb8cb",
   "metadata": {},
   "source": [
    "## Pandas - 관계형 또는 레이블이 된 데이터"
   ]
  },
  {
   "cell_type": "code",
   "execution_count": null,
   "id": "44ec9743-0069-4533-92c8-72d95cd86fc2",
   "metadata": {},
   "outputs": [],
   "source": [
    "import pandas as pd\n",
    "pd"
   ]
  },
  {
   "cell_type": "code",
   "execution_count": null,
   "id": "f81e5f3c-1aa1-4164-9235-a7b5f4fe1783",
   "metadata": {},
   "outputs": [],
   "source": [
    "pd.__version__"
   ]
  },
  {
   "cell_type": "markdown",
   "id": "e8bcf27c-f38d-41d6-9bd7-e2346fe69249",
   "metadata": {},
   "source": [
    "### Pandas의 Series - 1차원 배열"
   ]
  },
  {
   "cell_type": "code",
   "execution_count": null,
   "id": "83497bd3-34c4-46ab-92ff-a3faa583a29a",
   "metadata": {},
   "outputs": [],
   "source": [
    "ass = np.arange(100, 105)\n",
    "ass"
   ]
  },
  {
   "cell_type": "code",
   "execution_count": null,
   "id": "8d71d59e-195d-4f13-bcd0-65b3d0c42078",
   "metadata": {},
   "outputs": [],
   "source": [
    "s = pd.Series(arr) #arr 자리에 (['부장', '차장', '대리', '사원', '인턴']), list('abcde')와 같이 리스트 넣을 수 있음.\n",
    "s"
   ]
  },
  {
   "cell_type": "code",
   "execution_count": null,
   "id": "216bef51-0c5f-4f58-8ba6-7a728d27e195",
   "metadata": {
    "scrolled": true
   },
   "outputs": [],
   "source": [
    "s = pd.Series(arr, dtype = 'int32') #dtype 지정하여 생성할 수 있음.\n",
    "s"
   ]
  },
  {
   "cell_type": "markdown",
   "id": "8d9a6b96-5f67-48aa-bb00-18daae07a83d",
   "metadata": {},
   "source": [
    "### indexing"
   ]
  },
  {
   "cell_type": "code",
   "execution_count": null,
   "id": "bf6c0b07-3ad7-4ccb-9b09-d90e24b79c39",
   "metadata": {},
   "outputs": [],
   "source": [
    "s.index #0부터, 4까지 step 1로 생성됨. 기본적으로 정해지는 index = RangeIndex 라고 함."
   ]
  },
  {
   "cell_type": "code",
   "execution_count": null,
   "id": "1c77d6ef-a7db-4ab2-838f-0b445591b3cb",
   "metadata": {},
   "outputs": [],
   "source": [
    "s[0]"
   ]
  },
  {
   "cell_type": "markdown",
   "id": "7a870277-c3b9-4f4e-9c73-de9da2c896a3",
   "metadata": {},
   "source": [
    "### fancy indexing"
   ]
  },
  {
   "cell_type": "code",
   "execution_count": null,
   "id": "cbc592e8-1b8f-4be4-a59b-0ced8fb63d4b",
   "metadata": {},
   "outputs": [],
   "source": [
    "s = pd.Series(['부장', '차장', '대리', '사원', '인턴'])\n",
    "s[[1,3]] #대괄호 2개, index = [1,3]을 넣는 격"
   ]
  },
  {
   "cell_type": "markdown",
   "id": "c0d6be9a-6e61-4a4b-b2e9-bfc21504f0c7",
   "metadata": {},
   "source": [
    "### boolean indexing - 조건식 만들어서 특정 조건에 대해 True에 해당하는 값만 필터링"
   ]
  },
  {
   "cell_type": "code",
   "execution_count": null,
   "id": "5da6eb7a-85fd-4e3c-888c-5a19baa2b6c6",
   "metadata": {},
   "outputs": [],
   "source": [
    "s = pd.Series(np.random.randint(1000,20000, size = 10))\n",
    "s"
   ]
  },
  {
   "cell_type": "code",
   "execution_count": null,
   "id": "b885c8db-af17-4702-b1ab-eef8f992eb69",
   "metadata": {},
   "outputs": [],
   "source": [
    "s>15000"
   ]
  },
  {
   "cell_type": "code",
   "execution_count": null,
   "id": "b14bc891-861e-4c71-afb8-2f382c9c7d76",
   "metadata": {},
   "outputs": [],
   "source": [
    "s[s>15000]"
   ]
  },
  {
   "cell_type": "code",
   "execution_count": null,
   "id": "6b1ef233-6f18-46fb-9acc-2e391a5c053a",
   "metadata": {},
   "outputs": [],
   "source": [
    "idx = (s>15000) & (s<18000)\n",
    "s[idx]"
   ]
  },
  {
   "cell_type": "code",
   "execution_count": null,
   "id": "2f6fff84",
   "metadata": {},
   "outputs": [],
   "source": [
    "number = pd.Series(np.random.randint(100,200, size = 5))\n",
    "number"
   ]
  },
  {
   "cell_type": "markdown",
   "id": "2ccfeaad-fbe9-40a3-945b-f10a736bf34b",
   "metadata": {},
   "source": [
    "### 사용자 정의의 index"
   ]
  },
  {
   "cell_type": "code",
   "execution_count": null,
   "id": "110c19f5-146a-4d85-b484-becf984f144d",
   "metadata": {},
   "outputs": [],
   "source": [
    "s = pd.Series(['마케팅', '경영', '개발', '기획', '인사'], index = ['a', 'b', 'c', 'd', 'e'])\n",
    "s"
   ]
  },
  {
   "cell_type": "code",
   "execution_count": null,
   "id": "9dc129ed-d63d-4a4f-88c9-523a4b67e3b5",
   "metadata": {},
   "outputs": [],
   "source": [
    "s.index = list('가나다라마')\n",
    "s"
   ]
  },
  {
   "cell_type": "markdown",
   "id": "213097b3-473b-4fd9-9307-7ca1db6aa42c",
   "metadata": {},
   "source": [
    "### NaN (Not a Number)"
   ]
  },
  {
   "cell_type": "code",
   "execution_count": null,
   "id": "2a0e76a1-6999-4ec2-a902-8132efc67b4d",
   "metadata": {},
   "outputs": [],
   "source": [
    "s = pd.Series(['선화', '강호', np.nan, '소정', '우영'])\n",
    "s"
   ]
  },
  {
   "cell_type": "code",
   "execution_count": null,
   "id": "af9db7e5-8f68-456c-9925-b5e4ff6efa7f",
   "metadata": {},
   "outputs": [],
   "source": [
    "s.isnull() #isna랑 같음"
   ]
  },
  {
   "cell_type": "code",
   "execution_count": null,
   "id": "22f38dc9-4603-4cc4-86a7-6993a8c6178b",
   "metadata": {},
   "outputs": [],
   "source": [
    "s.notnull() #notna랑 같음"
   ]
  },
  {
   "cell_type": "code",
   "execution_count": null,
   "id": "f0defa9b-05b6-481f-ae6b-2c6c432f1c13",
   "metadata": {},
   "outputs": [],
   "source": [
    "s[s.isna()]"
   ]
  },
  {
   "cell_type": "markdown",
   "id": "fdbd5f51-158c-4858-9dc6-b0e2b759626e",
   "metadata": {},
   "source": [
    "### 슬라이싱"
   ]
  },
  {
   "cell_type": "code",
   "execution_count": null,
   "id": "39fe7373-3c1f-4bb5-b2ed-eb1485f9072c",
   "metadata": {},
   "outputs": [],
   "source": [
    "s = pd.Series(np.arange(100,150,10))\n",
    "s"
   ]
  },
  {
   "cell_type": "code",
   "execution_count": null,
   "id": "44a6fd33-1e4f-4ea5-b7d2-2cd456f0beeb",
   "metadata": {},
   "outputs": [],
   "source": [
    "s[1:3]"
   ]
  },
  {
   "cell_type": "markdown",
   "id": "e71b0ff2-045b-4f65-87fb-a55e259064ac",
   "metadata": {},
   "source": [
    "### Pandas의 DataFrame - 2차원 데이터 구조"
   ]
  },
  {
   "cell_type": "code",
   "execution_count": null,
   "id": "41b1efbf-db06-454a-a7b2-c1a06ea78723",
   "metadata": {},
   "outputs": [],
   "source": [
    "pd.DataFrame([[1,2,3,], \n",
    "             [4,5,6],\n",
    "             [7,8,9]], columns = ['가', '나', '다'])"
   ]
  },
  {
   "cell_type": "code",
   "execution_count": null,
   "id": "c1969617-b5c5-41c8-bb01-725582275d91",
   "metadata": {},
   "outputs": [],
   "source": [
    "data  = {'name' : ['Kime', 'Lee', 'Park'], \n",
    "         'age' : [24,27,34], \n",
    "         'children' : [2,1,3]\n",
    "}\n",
    "df = pd.DataFrame(data)\n",
    "df"
   ]
  },
  {
   "cell_type": "markdown",
   "id": "51e33ee8-206e-49a8-a337-44d258439e03",
   "metadata": {},
   "source": [
    "### 속성"
   ]
  },
  {
   "cell_type": "code",
   "execution_count": null,
   "id": "348fbd88-672c-496f-93b3-7d67c5c53af5",
   "metadata": {},
   "outputs": [],
   "source": [
    "df.index"
   ]
  },
  {
   "cell_type": "code",
   "execution_count": null,
   "id": "8bcd5cd9-483e-46be-ad39-58eefd84267e",
   "metadata": {},
   "outputs": [],
   "source": [
    "df.index = list('abc')\n",
    "df"
   ]
  },
  {
   "cell_type": "code",
   "execution_count": null,
   "id": "e6edf599-f1cf-4eab-995f-a48621c74185",
   "metadata": {},
   "outputs": [],
   "source": [
    "df.columns"
   ]
  },
  {
   "cell_type": "code",
   "execution_count": null,
   "id": "fcc8de61-5f80-4fcf-8c66-4914439b2d66",
   "metadata": {},
   "outputs": [],
   "source": [
    "df.values"
   ]
  },
  {
   "cell_type": "code",
   "execution_count": null,
   "id": "1293910c-52ed-4593-919e-d912088b62b3",
   "metadata": {},
   "outputs": [],
   "source": [
    "df.dtypes"
   ]
  },
  {
   "cell_type": "code",
   "execution_count": null,
   "id": "ba8b30c0-d274-4c77-9cba-0e39f07d2f40",
   "metadata": {},
   "outputs": [],
   "source": [
    "df.T"
   ]
  },
  {
   "cell_type": "code",
   "execution_count": null,
   "id": "77e7d7b0-5a5d-47ae-bc94-496829f39fa8",
   "metadata": {},
   "outputs": [],
   "source": [
    "df['name']"
   ]
  },
  {
   "cell_type": "code",
   "execution_count": null,
   "id": "e04a4269-3b79-46e3-a3c7-ade146cc5dc6",
   "metadata": {},
   "outputs": [],
   "source": [
    "df[['name', 'children']]"
   ]
  },
  {
   "cell_type": "code",
   "execution_count": null,
   "id": "68c46992-2efc-49f4-9840-9c2138ea457f",
   "metadata": {},
   "outputs": [],
   "source": [
    "df = df.rename(columns = {'name': 'ID'})\n",
    "df"
   ]
  }
 ],
 "metadata": {
  "kernelspec": {
   "display_name": "data-project",
   "language": "python",
   "name": "python3"
  },
  "language_info": {
   "codemirror_mode": {
    "name": "ipython",
    "version": 3
   },
   "file_extension": ".py",
   "mimetype": "text/x-python",
   "name": "python",
   "nbconvert_exporter": "python",
   "pygments_lexer": "ipython3",
   "version": "3.10.19"
  }
 },
 "nbformat": 4,
 "nbformat_minor": 5
}
